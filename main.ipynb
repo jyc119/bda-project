{
 "cells": [
  {
   "metadata": {},
   "cell_type": "markdown",
   "source": [
    "Import Data\n",
    "- Make a dataframe from the csv\n",
    "    - There is some inconsistent data (some rows formatted poorly), so we will skip them    \n"
   ],
   "id": "26434dad1a98e76e"
  },
  {
   "cell_type": "code",
   "id": "304c83a5-d933-49cf-9b1e-8b4d8c420d6f",
   "metadata": {
    "ExecuteTime": {
     "end_time": "2024-12-06T22:35:48.831727Z",
     "start_time": "2024-12-06T22:35:48.464053Z"
    }
   },
   "source": [
    "import pandas as pd\n",
    "\n",
    "FILE = \"./data/Assignment-1_Data.csv\"\n",
    "\n",
    "data = pd.read_csv(FILE, sep=\";\", on_bad_lines=\"skip\", low_memory=False)\n",
    "\n",
    "print(data.head())"
   ],
   "outputs": [
    {
     "name": "stdout",
     "output_type": "stream",
     "text": [
      "   BillNo                             Itemname  Quantity              Date  \\\n",
      "0  536365   WHITE HANGING HEART T-LIGHT HOLDER         6  01.12.2010 08:26   \n",
      "1  536365                  WHITE METAL LANTERN         6  01.12.2010 08:26   \n",
      "2  536365       CREAM CUPID HEARTS COAT HANGER         8  01.12.2010 08:26   \n",
      "3  536365  KNITTED UNION FLAG HOT WATER BOTTLE         6  01.12.2010 08:26   \n",
      "4  536365       RED WOOLLY HOTTIE WHITE HEART.         6  01.12.2010 08:26   \n",
      "\n",
      "  Price  CustomerID         Country  \n",
      "0  2,55     17850.0  United Kingdom  \n",
      "1  3,39     17850.0  United Kingdom  \n",
      "2  2,75     17850.0  United Kingdom  \n",
      "3  3,39     17850.0  United Kingdom  \n",
      "4  3,39     17850.0  United Kingdom  \n"
     ]
    }
   ],
   "execution_count": 12
  },
  {
   "cell_type": "markdown",
   "id": "c87ed3ae-7b52-48e3-a408-9831d26a86ad",
   "metadata": {},
   "source": [
    "Clean Data\n",
    "- Only data we care about is BillNo, Itemname, and Country \n",
    "    - We drop the other columns\n",
    " "
   ]
  },
  {
   "metadata": {
    "ExecuteTime": {
     "end_time": "2024-12-06T22:40:30.498515Z",
     "start_time": "2024-12-06T22:40:30.480862Z"
    }
   },
   "cell_type": "code",
   "source": [
    "columns_to_keep = ['BillNo', 'Itemname', 'Country']\n",
    "\n",
    "data = data[columns_to_keep]\n",
    "\n",
    "print(data)"
   ],
   "id": "e7670df0d15d877b",
   "outputs": [
    {
     "name": "stdout",
     "output_type": "stream",
     "text": [
      "        BillNo                             Itemname         Country\n",
      "0       536365   WHITE HANGING HEART T-LIGHT HOLDER  United Kingdom\n",
      "1       536365                  WHITE METAL LANTERN  United Kingdom\n",
      "2       536365       CREAM CUPID HEARTS COAT HANGER  United Kingdom\n",
      "3       536365  KNITTED UNION FLAG HOT WATER BOTTLE  United Kingdom\n",
      "4       536365       RED WOOLLY HOTTIE WHITE HEART.  United Kingdom\n",
      "...        ...                                  ...             ...\n",
      "522059  581587          PACK OF 20 SPACEBOY NAPKINS          France\n",
      "522060  581587          CHILDREN'S APRON DOLLY GIRL          France\n",
      "522061  581587         CHILDRENS CUTLERY DOLLY GIRL          France\n",
      "522062  581587      CHILDRENS CUTLERY CIRCUS PARADE          France\n",
      "522063  581587         BAKING SET 9 PIECE RETROSPOT          France\n",
      "\n",
      "[522064 rows x 3 columns]\n"
     ]
    }
   ],
   "execution_count": 14
  },
  {
   "metadata": {},
   "cell_type": "code",
   "outputs": [],
   "execution_count": null,
   "source": "",
   "id": "33c2dffcc4452dba"
  }
 ],
 "metadata": {
  "kernelspec": {
   "display_name": "Python 3 (ipykernel)",
   "language": "python",
   "name": "python3"
  },
  "language_info": {
   "codemirror_mode": {
    "name": "ipython",
    "version": 3
   },
   "file_extension": ".py",
   "mimetype": "text/x-python",
   "name": "python",
   "nbconvert_exporter": "python",
   "pygments_lexer": "ipython3",
   "version": "3.13.1"
  }
 },
 "nbformat": 4,
 "nbformat_minor": 5
}
