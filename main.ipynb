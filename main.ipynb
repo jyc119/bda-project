{
 "cells": [
  {
   "cell_type": "code",
   "execution_count": 16,
   "id": "304c83a5-d933-49cf-9b1e-8b4d8c420d6f",
   "metadata": {},
   "outputs": [
    {
     "name": "stdout",
     "output_type": "stream",
     "text": [
      "                                                   BillNo;Itemname;Quantity;Date;Price;CustomerID;Country\n",
      "536365;WHITE HANGING HEART T-LIGHT HOLDER;6;01....                            55;17850;United Kingdom    \n"
     ]
    }
   ],
   "source": [
    "import pandas as pd\n",
    "\n",
    "FILE = \"./data/Assignment-1_Data.csv\"\n",
    "\n",
    "def read_file(file):\n",
    "    # there is some inconsistent data so I used on_bad_lines, prob need to fix this\n",
    "    df = pd.read_csv(file, on_bad_lines=\"skip\")\n",
    "    return df\n",
    "\n",
    "def main():\n",
    "    data = read_file(FILE)\n",
    "    print(data.head(1))\n",
    "\n",
    "main()"
   ]
  },
  {
   "cell_type": "markdown",
   "id": "c87ed3ae-7b52-48e3-a408-9831d26a86ad",
   "metadata": {},
   "source": [
    "passing data in"
   ]
  }
 ],
 "metadata": {
  "kernelspec": {
   "display_name": "Python 3 (ipykernel)",
   "language": "python",
   "name": "python3"
  },
  "language_info": {
   "codemirror_mode": {
    "name": "ipython",
    "version": 3
   },
   "file_extension": ".py",
   "mimetype": "text/x-python",
   "name": "python",
   "nbconvert_exporter": "python",
   "pygments_lexer": "ipython3",
   "version": "3.13.1"
  }
 },
 "nbformat": 4,
 "nbformat_minor": 5
}
